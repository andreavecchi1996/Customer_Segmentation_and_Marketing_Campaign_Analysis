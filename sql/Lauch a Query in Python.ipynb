{
 "cells": [
  {
   "cell_type": "code",
   "execution_count": 3,
   "id": "22aa9b22-6637-4c89-9d8e-f759d3f769d1",
   "metadata": {},
   "outputs": [
    {
     "name": "stdout",
     "output_type": "stream",
     "text": [
      "          name gender  number\n",
      "0        Linda      F    5061\n",
      "1  Christopher      M    4982\n",
      "2  Christopher      M    4969\n",
      "3  Christopher      M    4965\n",
      "4        Linda      F    4947\n",
      "5  Christopher      M    4912\n",
      "6        Linda      F    4814\n",
      "7        David      M    4771\n",
      "8        David      M    4710\n",
      "9  Christopher      M    4642\n"
     ]
    }
   ],
   "source": [
    "from google.cloud import bigquery \n",
    "\n",
    "client = bigquery.Client(project=\"sql-sandbox-435415\")\n",
    "\n",
    "query = \"\"\"\n",
    "    SELECT name, gender, number\n",
    "    FROM `bigquery-public-data.usa_names.usa_1910_2013`\n",
    "    WHERE state = 'TX'\n",
    "    ORDER BY number DESC\n",
    "    LIMIT 10\n",
    "\"\"\"\n",
    "\n",
    "df = client.query(query).to_dataframe()\n",
    "print(df)"
   ]
  },
  {
   "cell_type": "code",
   "execution_count": null,
   "id": "7de275fd",
   "metadata": {},
   "outputs": [],
   "source": [
    "print ('ciao')"
   ]
  },
  {
   "cell_type": "code",
   "execution_count": null,
   "id": "06c296a4",
   "metadata": {},
   "outputs": [],
   "source": []
  },
  {
   "cell_type": "code",
   "execution_count": null,
   "id": "8846c53c",
   "metadata": {},
   "outputs": [],
   "source": []
  }
 ],
 "metadata": {
  "kernelspec": {
   "display_name": "boolean16",
   "language": "python",
   "name": "python3"
  },
  "language_info": {
   "codemirror_mode": {
    "name": "ipython",
    "version": 3
   },
   "file_extension": ".py",
   "mimetype": "text/x-python",
   "name": "python",
   "nbconvert_exporter": "python",
   "pygments_lexer": "ipython3",
   "version": "3.12.7"
  }
 },
 "nbformat": 4,
 "nbformat_minor": 5
}
