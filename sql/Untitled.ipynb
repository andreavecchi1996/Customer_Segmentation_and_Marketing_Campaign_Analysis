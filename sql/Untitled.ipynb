{
 "cells": [
  {
   "cell_type": "code",
   "execution_count": 1,
   "id": "9a1cf859-592b-498b-a444-4b03293bc624",
   "metadata": {},
   "outputs": [
    {
     "name": "stdout",
     "output_type": "stream",
     "text": [
      "ciao\n"
     ]
    }
   ],
   "source": [
    "print (\"ciao\")"
   ]
  },
  {
   "cell_type": "code",
   "execution_count": 3,
   "id": "f0a47d6b-6cfa-4706-96a2-4569c24ea54c",
   "metadata": {},
   "outputs": [
    {
     "name": "stderr",
     "output_type": "stream",
     "text": [
      "/opt/miniconda3/envs/boolean16/lib/python3.12/site-packages/google/auth/_default.py:76: UserWarning: Your application has authenticated using end user credentials from Google Cloud SDK without a quota project. You might receive a \"quota exceeded\" or \"API not enabled\" error. See the following page for troubleshooting: https://cloud.google.com/docs/authentication/adc-troubleshooting/user-creds. \n",
      "  warnings.warn(_CLOUD_SDK_CREDENTIALS_WARNING)\n"
     ]
    },
    {
     "ename": "OSError",
     "evalue": "Project was not passed and could not be determined from the environment.",
     "output_type": "error",
     "traceback": [
      "\u001b[0;31m---------------------------------------------------------------------------\u001b[0m",
      "\u001b[0;31mOSError\u001b[0m                                   Traceback (most recent call last)",
      "Cell \u001b[0;32mIn[3], line 2\u001b[0m\n\u001b[1;32m      1\u001b[0m \u001b[38;5;28;01mfrom\u001b[39;00m \u001b[38;5;21;01mgoogle\u001b[39;00m\u001b[38;5;21;01m.\u001b[39;00m\u001b[38;5;21;01mcloud\u001b[39;00m \u001b[38;5;28;01mimport\u001b[39;00m bigquery\n\u001b[0;32m----> 2\u001b[0m client \u001b[38;5;241m=\u001b[39m bigquery\u001b[38;5;241m.\u001b[39mClient()\n",
      "File \u001b[0;32m/opt/miniconda3/envs/boolean16/lib/python3.12/site-packages/google/cloud/bigquery/client.py:253\u001b[0m, in \u001b[0;36mClient.__init__\u001b[0;34m(self, project, credentials, _http, location, default_query_job_config, default_load_job_config, client_info, client_options)\u001b[0m\n\u001b[1;32m    250\u001b[0m     client_options \u001b[38;5;241m=\u001b[39m google\u001b[38;5;241m.\u001b[39mapi_core\u001b[38;5;241m.\u001b[39mclient_options\u001b[38;5;241m.\u001b[39mfrom_dict(client_options)\n\u001b[1;32m    251\u001b[0m \u001b[38;5;66;03m# assert isinstance(client_options, google.api_core.client_options.ClientOptions)\u001b[39;00m\n\u001b[0;32m--> 253\u001b[0m \u001b[38;5;28msuper\u001b[39m(Client, \u001b[38;5;28mself\u001b[39m)\u001b[38;5;241m.\u001b[39m\u001b[38;5;21m__init__\u001b[39m(\n\u001b[1;32m    254\u001b[0m     project\u001b[38;5;241m=\u001b[39mproject,\n\u001b[1;32m    255\u001b[0m     credentials\u001b[38;5;241m=\u001b[39mcredentials,\n\u001b[1;32m    256\u001b[0m     client_options\u001b[38;5;241m=\u001b[39mclient_options,\n\u001b[1;32m    257\u001b[0m     _http\u001b[38;5;241m=\u001b[39m_http,\n\u001b[1;32m    258\u001b[0m )\n\u001b[1;32m    260\u001b[0m kw_args: Dict[\u001b[38;5;28mstr\u001b[39m, Any] \u001b[38;5;241m=\u001b[39m {\u001b[38;5;124m\"\u001b[39m\u001b[38;5;124mclient_info\u001b[39m\u001b[38;5;124m\"\u001b[39m: client_info}\n\u001b[1;32m    261\u001b[0m bq_host \u001b[38;5;241m=\u001b[39m _get_bigquery_host()\n",
      "File \u001b[0;32m/opt/miniconda3/envs/boolean16/lib/python3.12/site-packages/google/cloud/client/__init__.py:338\u001b[0m, in \u001b[0;36mClientWithProject.__init__\u001b[0;34m(self, project, credentials, client_options, _http)\u001b[0m\n\u001b[1;32m    337\u001b[0m \u001b[38;5;28;01mdef\u001b[39;00m \u001b[38;5;21m__init__\u001b[39m(\u001b[38;5;28mself\u001b[39m, project\u001b[38;5;241m=\u001b[39m\u001b[38;5;28;01mNone\u001b[39;00m, credentials\u001b[38;5;241m=\u001b[39m\u001b[38;5;28;01mNone\u001b[39;00m, client_options\u001b[38;5;241m=\u001b[39m\u001b[38;5;28;01mNone\u001b[39;00m, _http\u001b[38;5;241m=\u001b[39m\u001b[38;5;28;01mNone\u001b[39;00m):\n\u001b[0;32m--> 338\u001b[0m     _ClientProjectMixin\u001b[38;5;241m.\u001b[39m\u001b[38;5;21m__init__\u001b[39m(\u001b[38;5;28mself\u001b[39m, project\u001b[38;5;241m=\u001b[39mproject, credentials\u001b[38;5;241m=\u001b[39mcredentials)\n\u001b[1;32m    339\u001b[0m     Client\u001b[38;5;241m.\u001b[39m\u001b[38;5;21m__init__\u001b[39m(\n\u001b[1;32m    340\u001b[0m         \u001b[38;5;28mself\u001b[39m, credentials\u001b[38;5;241m=\u001b[39mcredentials, client_options\u001b[38;5;241m=\u001b[39mclient_options, _http\u001b[38;5;241m=\u001b[39m_http\n\u001b[1;32m    341\u001b[0m     )\n",
      "File \u001b[0;32m/opt/miniconda3/envs/boolean16/lib/python3.12/site-packages/google/cloud/client/__init__.py:289\u001b[0m, in \u001b[0;36m_ClientProjectMixin.__init__\u001b[0;34m(self, project, credentials)\u001b[0m\n\u001b[1;32m    286\u001b[0m     project \u001b[38;5;241m=\u001b[39m \u001b[38;5;28mself\u001b[39m\u001b[38;5;241m.\u001b[39m_determine_default(project)\n\u001b[1;32m    288\u001b[0m \u001b[38;5;28;01mif\u001b[39;00m project \u001b[38;5;129;01mis\u001b[39;00m \u001b[38;5;28;01mNone\u001b[39;00m:\n\u001b[0;32m--> 289\u001b[0m     \u001b[38;5;28;01mraise\u001b[39;00m \u001b[38;5;167;01mEnvironmentError\u001b[39;00m(\n\u001b[1;32m    290\u001b[0m         \u001b[38;5;124m\"\u001b[39m\u001b[38;5;124mProject was not passed and could not be \u001b[39m\u001b[38;5;124m\"\u001b[39m\n\u001b[1;32m    291\u001b[0m         \u001b[38;5;124m\"\u001b[39m\u001b[38;5;124mdetermined from the environment.\u001b[39m\u001b[38;5;124m\"\u001b[39m\n\u001b[1;32m    292\u001b[0m     )\n\u001b[1;32m    294\u001b[0m \u001b[38;5;28;01mif\u001b[39;00m \u001b[38;5;28misinstance\u001b[39m(project, \u001b[38;5;28mbytes\u001b[39m):\n\u001b[1;32m    295\u001b[0m     project \u001b[38;5;241m=\u001b[39m project\u001b[38;5;241m.\u001b[39mdecode(\u001b[38;5;124m\"\u001b[39m\u001b[38;5;124mutf-8\u001b[39m\u001b[38;5;124m\"\u001b[39m)\n",
      "\u001b[0;31mOSError\u001b[0m: Project was not passed and could not be determined from the environment."
     ]
    }
   ],
   "source": [
    "from google.cloud import bigquery\n",
    "client = bigquery.Client()"
   ]
  },
  {
   "cell_type": "code",
   "execution_count": null,
   "id": "0598eae7-5fba-42a7-9c0d-bd0757f54013",
   "metadata": {},
   "outputs": [],
   "source": [
    "from google.cloud import bigquery\n",
    "\n",
    "client = bigquery.Client(project=\"NOME_DEL_TUO_PROGETTO\")"
   ]
  },
  {
   "cell_type": "code",
   "execution_count": 6,
   "id": "89ba5c48-394e-4ff8-9ef6-9d3c5d31e227",
   "metadata": {},
   "outputs": [
    {
     "name": "stderr",
     "output_type": "stream",
     "text": [
      "/opt/miniconda3/envs/boolean16/lib/python3.12/site-packages/google/auth/_default.py:76: UserWarning: Your application has authenticated using end user credentials from Google Cloud SDK without a quota project. You might receive a \"quota exceeded\" or \"API not enabled\" error. See the following page for troubleshooting: https://cloud.google.com/docs/authentication/adc-troubleshooting/user-creds. \n",
      "  warnings.warn(_CLOUD_SDK_CREDENTIALS_WARNING)\n"
     ]
    },
    {
     "name": "stdout",
     "output_type": "stream",
     "text": [
      "Willie\n",
      "Flora\n",
      "Stella\n",
      "Esther\n",
      "Erma\n",
      "Katie\n",
      "Ethel\n",
      "Cora\n",
      "Margarita\n",
      "Mae\n",
      "Mamie\n",
      "Eula\n",
      "Nancy\n",
      "Ethel\n",
      "Virginia\n",
      "Nina\n",
      "Beatrice\n",
      "Juana\n",
      "Nancy\n",
      "Thelma\n",
      "Virgie\n",
      "Ella\n",
      "Norma\n",
      "Eunice\n",
      "Elvira\n",
      "Dollie\n",
      "Mamie\n",
      "Nellie\n",
      "Laverne\n",
      "Jessie\n",
      "Johnnie\n",
      "Alice\n",
      "Dolores\n",
      "Margarita\n",
      "Doris\n",
      "Frances\n",
      "Addie\n",
      "Beulah\n",
      "Charlotte\n",
      "Dixie\n",
      "Eddie\n",
      "Nadine\n",
      "Faye\n",
      "Mae\n",
      "Estella\n",
      "Antonia\n",
      "Ann\n",
      "Dominga\n",
      "Ila\n",
      "Olivia\n",
      "Nell\n",
      "Estella\n",
      "Geneva\n",
      "Eula\n",
      "Gussie\n",
      "Bessie\n",
      "Kathryn\n",
      "Evelyn\n",
      "Virgie\n",
      "Bennie\n",
      "Jeanette\n",
      "Dixie\n",
      "Winnie\n",
      "Bettie\n",
      "Beulah\n",
      "Pearl\n",
      "Essie\n",
      "Francis\n",
      "Elsie\n",
      "Joyce\n",
      "Katie\n",
      "Geneva\n",
      "Mamie\n",
      "Margarita\n",
      "Elisa\n",
      "Frankie\n",
      "Lila\n",
      "Estelle\n",
      "Estella\n",
      "Lillian\n",
      "Janie\n",
      "Eugenia\n",
      "Eunice\n",
      "Lois\n",
      "Mabel\n",
      "Alice\n",
      "Norma\n",
      "Geneva\n",
      "Ruth\n",
      "Tommie\n",
      "Viola\n",
      "Connie\n",
      "Ida\n",
      "Grace\n",
      "Paula\n",
      "Marjorie\n",
      "Carmen\n",
      "Lee\n",
      "Linda\n",
      "Elida\n"
     ]
    }
   ],
   "source": [
    "from google.cloud import bigquery\n",
    "\n",
    "client = bigquery.Client(project=\"sql-sandbox-435415\")\n",
    "\n",
    "# Esegui la query di test\n",
    "QUERY = (\n",
    "    'SELECT name FROM `bigquery-public-data.usa_names.usa_1910_2013` '\n",
    "    'WHERE state = \"TX\" '\n",
    "    'LIMIT 100')\n",
    "\n",
    "query_job = client.query(QUERY)\n",
    "\n",
    "for row in query_job:\n",
    "    print(row.name)"
   ]
  },
  {
   "cell_type": "code",
   "execution_count": null,
   "id": "d2f940b8-454e-4fb9-8ab1-b1dae85bcd23",
   "metadata": {},
   "outputs": [],
   "source": []
  }
 ],
 "metadata": {
  "kernelspec": {
   "display_name": "Python 3 (ipykernel)",
   "language": "python",
   "name": "python3"
  },
  "language_info": {
   "codemirror_mode": {
    "name": "ipython",
    "version": 3
   },
   "file_extension": ".py",
   "mimetype": "text/x-python",
   "name": "python",
   "nbconvert_exporter": "python",
   "pygments_lexer": "ipython3",
   "version": "3.12.7"
  }
 },
 "nbformat": 4,
 "nbformat_minor": 5
}
